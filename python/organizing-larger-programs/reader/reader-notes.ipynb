{
 "cells": [
  {
   "cell_type": "markdown",
   "metadata": {},
   "source": [
    "Reader class reads gzipped and bzipped files as well as normal text files."
   ]
  },
  {
   "cell_type": "code",
   "execution_count": 4,
   "metadata": {
    "collapsed": false
   },
   "outputs": [
    {
     "name": "stdout",
     "output_type": "stream",
     "text": [
      "Reader reads a gzipped file..\n",
      "data compressed with gzip\n",
      "Reader reads a bzipped file...\n",
      "data compressed with bz2\n",
      "Reader reads a normal text file\n",
      "from reader.reader import Reader\n",
      "\n"
     ]
    }
   ],
   "source": [
    "from reader.reader import Reader\n",
    "\n",
    "print('Reader reads a gzipped file..')\n",
    "reader = Reader('reader-test.gz')\n",
    "print(reader.read())\n",
    "\n",
    "print('Reader reads a bzipped file...')\n",
    "reader = Reader('reader-test.bz2')\n",
    "print(reader.read())\n",
    "\n",
    "print('Reader reads a normal text file')\n",
    "reader = Reader('reader/__init__.py')\n",
    "print(reader.read())\n"
   ]
  },
  {
   "cell_type": "markdown",
   "metadata": {},
   "source": [
    "Make the reader module executable by adding \\_\\_main\\_\\_.py file\n",
    "\n",
    "We can run reader module in the command line as follows:\n",
    "\n",
    "python reader reader-test.bz2"
   ]
  },
  {
   "cell_type": "code",
   "execution_count": null,
   "metadata": {
    "collapsed": true
   },
   "outputs": [],
   "source": []
  }
 ],
 "metadata": {
  "kernelspec": {
   "display_name": "Python 3",
   "language": "python",
   "name": "python3"
  },
  "language_info": {
   "codemirror_mode": {
    "name": "ipython",
    "version": 3
   },
   "file_extension": ".py",
   "mimetype": "text/x-python",
   "name": "python",
   "nbconvert_exporter": "python",
   "pygments_lexer": "ipython3",
   "version": "3.5.2"
  }
 },
 "nbformat": 4,
 "nbformat_minor": 2
}
