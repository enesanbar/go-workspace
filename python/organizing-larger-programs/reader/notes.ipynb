{
 "cells": [
  {
   "cell_type": "markdown",
   "metadata": {},
   "source": [
    "**\\_\\_all\\_\\_**: specify what gets imported using \\*\n",
    "\n",
    "from module import \\*\n",
    "\n",
    "To specify what's included, set \\_\\_all\\_\\_ list in \\_\\_init\\_\\_.py\n",
    "\n",
    "For example, in reader/compressed/\\_\\_init\\_\\_.py\n",
    "\n",
    "\n",
    "from reader.compressed.bzipped import opener as bz2_opener\n",
    "\n",
    "from reader.compressed.gzipped import opener as gzip_opener\n",
    "\n",
    "\\_\\_all\\_\\_ = ['bz2_opener', 'gzip_opener']\n"
   ]
  },
  {
   "cell_type": "code",
   "execution_count": 1,
   "metadata": {
    "collapsed": false
   },
   "outputs": [
    {
     "name": "stdout",
     "output_type": "stream",
     "text": [
      "Here's what's included in the locals after importing everything:\n"
     ]
    },
    {
     "data": {
      "text/plain": [
       "['bz2_opener', 'locals_before', 'gzip_opener']"
      ]
     },
     "execution_count": 1,
     "metadata": {},
     "output_type": "execute_result"
    }
   ],
   "source": [
    "locals_before = dict(locals())\n",
    "from reader.compressed import *\n",
    "locals_after = dict(locals())\n",
    "\n",
    "print(\"Here's what's included in the locals after importing everything:\")\n",
    "[key for key in locals_after.keys() if not key in locals_before]"
   ]
  }
 ],
 "metadata": {
  "kernelspec": {
   "display_name": "Python 3",
   "language": "python",
   "name": "python3"
  },
  "language_info": {
   "codemirror_mode": {
    "name": "ipython",
    "version": 3
   },
   "file_extension": ".py",
   "mimetype": "text/x-python",
   "name": "python",
   "nbconvert_exporter": "python",
   "pygments_lexer": "ipython3",
   "version": "3.5.2"
  }
 },
 "nbformat": 4,
 "nbformat_minor": 0
}
