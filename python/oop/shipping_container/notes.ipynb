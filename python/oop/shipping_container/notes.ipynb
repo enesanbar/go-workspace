{
 "cells": [
  {
   "cell_type": "markdown",
   "metadata": {},
   "source": [
    "# Class Attributes and Instance Attributes"
   ]
  },
  {
   "cell_type": "code",
   "execution_count": 1,
   "metadata": {
    "collapsed": false
   },
   "outputs": [
    {
     "name": "stdout",
     "output_type": "stream",
     "text": [
      "ESCU0013351 Volume: 1360.0\n",
      "YMLU0013369 Volume: 1360.0\n",
      "MAEU0013371 Volume: 1360.0\n",
      "MAER0013385 Volume: 1260.0, Celsius: 2\n",
      "ESCR0013391 Volume: 1260.0, Celsius: 3\n",
      "YMLR0013407 Volume: 1260.0, Celsius: 2\n",
      "BIC: MAEU0013371\n",
      "BIC: MAEU0013371\n",
      "ShippingContainer(owner_code='MAE', length_ft=20, contents=list(['food', 'textiles', 'minerals']))\n",
      "MAEU0013371\n",
      "BIC: MAER0013385\n",
      "BIC: MAER0013385\n",
      "ShippingContainer(owner_code='MAE', length_ft=20, contents=list(fish))\n",
      "MAER0013385\n",
      "BIC: YMLR0013407\n",
      "BIC: YMLR0013407\n",
      "ShippingContainer(owner_code='YML', length_ft=20, contents=list(None))\n",
      "YMLR0013407\n"
     ]
    }
   ],
   "source": [
    "from shipping import ShippingContainer\n",
    "from shipping import RefrigeratedShippingContainer\n",
    "from shipping import HeatedRefrigeratedShippingContainer\n",
    "\n",
    "# using constructor\n",
    "sc1 = ShippingContainer('ESC', 20, 'electronics')\n",
    "\n",
    "# using the named constructors\n",
    "sc2 = ShippingContainer.create_empty('YML', length_ft=20)\n",
    "sc3 = ShippingContainer.create_with_items('MAE', length_ft=20, items=['food', 'textiles', 'minerals'])\n",
    "\n",
    "rsc1 = RefrigeratedShippingContainer('MAE', length_ft=20, contents='fish', celsius=2)\n",
    "rsc2 = RefrigeratedShippingContainer.create_with_items('ESC', \n",
    "                                                       length_ft=20, \n",
    "                                                       items=['brocoli', 'carrots'], \n",
    "                                                       celsius=3)\n",
    "\n",
    "hrsc1 = HeatedRefrigeratedShippingContainer.create_empty('YML', length_ft=20, celsius=2)\n",
    "\n",
    "print(\"{} Volume: {}\".format(sc1.bic, sc1.volume_ft3))\n",
    "print(\"{} Volume: {}\".format(sc2.bic, sc2.volume_ft3))\n",
    "print(\"{} Volume: {}\".format(sc3.bic, sc3.volume_ft3))\n",
    "print(\"{} Volume: {}, Celsius: {}\".format(rsc1.bic, rsc1.volume_ft3, rsc1.celsius))\n",
    "print(\"{} Volume: {}, Celsius: {}\".format(rsc2.bic, rsc2.volume_ft3, rsc2.celsius))\n",
    "print(\"{} Volume: {}, Celsius: {}\".format(hrsc1.bic, hrsc1.volume_ft3, hrsc1.celsius))\n",
    "print(sc3)\n",
    "print(str(sc3))\n",
    "print(repr(sc3))\n",
    "print(\"{}\".format(sc3))\n",
    "\n",
    "print(rsc1)\n",
    "print(str(rsc1))\n",
    "print(repr(rsc1))\n",
    "print(\"{}\".format(rsc1))\n",
    "\n",
    "print(hrsc1)\n",
    "print(str(hrsc1))\n",
    "print(repr(hrsc1))\n",
    "print(\"{}\".format(hrsc1))"
   ]
  }
 ],
 "metadata": {
  "kernelspec": {
   "display_name": "Python 3",
   "language": "python",
   "name": "python3"
  },
  "language_info": {
   "codemirror_mode": {
    "name": "ipython",
    "version": 3
   },
   "file_extension": ".py",
   "mimetype": "text/x-python",
   "name": "python",
   "nbconvert_exporter": "python",
   "pygments_lexer": "ipython3",
   "version": "3.5.2"
  }
 },
 "nbformat": 4,
 "nbformat_minor": 2
}
